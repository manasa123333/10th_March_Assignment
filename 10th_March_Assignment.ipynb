{
 "cells": [
  {
   "cell_type": "markdown",
   "id": "a4cc9a7b-76d0-4bf8-9a74-c3f04c0a15df",
   "metadata": {},
   "source": [
    "Q1: What is Estimation Statistics? Explain point estimate and interval estimate."
   ]
  },
  {
   "cell_type": "markdown",
   "id": "688f2cd3-1a3a-4f4b-a257-90dea9311a8a",
   "metadata": {},
   "source": [
    "Estimation statistics is a branch of statistics that deals with the estimation of population parameters from sample data. There are two main types of estimation statistics: point estimation and interval estimation.            \n",
    "\n",
    "Point estimation involves using sample data to calculate a single value estimate of a population parameter. For example, the sample mean is a point estimate of the population mean. Other common point estimators include the sample median, mode, and standard deviation.                                                              \n",
    "\n",
    "Interval estimation involves using sample data to construct a range of values within which the population parameter is likely to fall. This range of values is known as a confidence interval. Confidence intervals are constructed using a statistical procedure known as confidence interval estimation. The confidence level of a confidence interval is the percentage of times that the confidence interval will contain the true population parameter, if the experiment is repeated many times."
   ]
  },
  {
   "cell_type": "markdown",
   "id": "9b50b4a6-7117-4ad0-92c8-407f83d15898",
   "metadata": {},
   "source": [
    "Q2. Write a Python function to estimate the population mean using a sample mean and standard\n",
    "deviation."
   ]
  },
  {
   "cell_type": "code",
   "execution_count": 13,
   "id": "f1a97210-4fd3-4cac-a137-5083d1100f33",
   "metadata": {},
   "outputs": [],
   "source": [
    "# sample mean is a good approximate for population mean\n",
    "def population_mean(sample_mean):\n",
    "    population_mean = sample_mean\n",
    "    return population_mean"
   ]
  },
  {
   "cell_type": "code",
   "execution_count": 14,
   "id": "00edf4ad-e4b9-460d-aeb0-d6b26b3a5b3b",
   "metadata": {},
   "outputs": [
    {
     "data": {
      "text/plain": [
       "30"
      ]
     },
     "execution_count": 14,
     "metadata": {},
     "output_type": "execute_result"
    }
   ],
   "source": [
    "population_mean(30)"
   ]
  },
  {
   "cell_type": "markdown",
   "id": "cf23a0af-6408-444f-a259-44ff1498a01d",
   "metadata": {},
   "source": [
    "Q3: What is Hypothesis testing? Why is it used? State the importance of Hypothesis testing."
   ]
  },
  {
   "cell_type": "markdown",
   "id": "7961f9b3-1eb6-45e4-872c-92a2af57901f",
   "metadata": {},
   "source": [
    "\n",
    "Hypothesis testing is a statistical method that is used to test the validity of a hypothesis. A hypothesis is a statement about a population parameter that can be tested using sample data.                                 \n",
    "\n",
    "Hypothesis testing is used in a wide variety of fields, including science, engineering, medicine, and business. It is used to answer questions such as:                                           \n",
    "\n",
    "Is there a difference in the mean height of men and women?                                                 \n",
    "Is a new drug effective in treating a disease?                                                         \n",
    "Is a new marketing campaign effective in increasing sales?                                                    \n",
    "Hypothesis testing is important because it allows us to make inferences about populations based on sample data. Without hypothesis testing, we would not be able to know whether the results of a study are due to chance or whether they represent a true difference in the population.                                            \n",
    "\n",
    "The importance of hypothesis testing can be summarized as follows:                                                \n",
    "\n",
    "It allows us to make inferences about populations based on sample data.                                      \n",
    "It allows us to test the validity of theories and claims.                                                \n",
    "It helps us to make informed decisions.                                                               \n",
    "Here is a simple example of how to use hypothesis testing:                                                   \n",
    "\n",
    "Suppose we want to test the hypothesis that the average height of men is greater than the average height of women. We could take a sample of men and women and measure their heights. We could then use a statistical test to compare the mean heights of the two samples.                                                                \n",
    "\n",
    "If the statistical test shows that the difference in mean heights is statistically significant, then we can reject the null hypothesis and conclude that there is a true difference in the mean height of men and women. Otherwise, we would fail to reject the null hypothesis and conclude that there is not enough evidence to support the claim that the average height of men is greater than the average height of women.                                        \n",
    "\n",
    "Hypothesis testing is a powerful tool that can be used to make informed decisions in a wide variety of fields."
   ]
  },
  {
   "cell_type": "markdown",
   "id": "7e084301-b523-4bbe-88ab-5c4abea4bc1a",
   "metadata": {},
   "source": [
    "Q4. Create a hypothesis that states whether the average weight of male college students is greater than\n",
    "the average weight of female college students.                                                        \n",
    "null hypothesis(Ho) : The average weight of male college students is equal to the average weight of female college students.                                                                       \n",
    "Alternative hypothesis(Ho) : The average weight of male college students is greater than the average weight of female college students. "
   ]
  },
  {
   "cell_type": "markdown",
   "id": "8b3449dd-5da3-4ac5-a08c-a8e84bda6bfc",
   "metadata": {},
   "source": [
    "Q5. Write a Python script to conduct a hypothesis test on the difference between two population means,\n",
    "given a sample from each population."
   ]
  },
  {
   "cell_type": "code",
   "execution_count": 17,
   "id": "e62c4502-f926-4b77-87b9-ecd50a7d3d1a",
   "metadata": {},
   "outputs": [
    {
     "name": "stdout",
     "output_type": "stream",
     "text": [
      "We fail to reject the null hypothesis\n",
      "t_stats -0.10660035817780483\n",
      "p_value 0.9177307439248352\n"
     ]
    }
   ],
   "source": [
    "import numpy as np\n",
    "from scipy import stats\n",
    "# create 2 samples\n",
    "sample_1 = np.array([1,8,3,6,9])\n",
    "sample_2 = np.array([6,2,9,6,5])\n",
    "\n",
    "alpha = 0.05\n",
    "\n",
    "t_stats,p_value = stats.ttest_ind(sample_1, sample_2)\n",
    "\n",
    "if p_value < alpha:\n",
    "    print(\"We reject the null hypothesis\")\n",
    "else:\n",
    "    print(\"We fail to reject the null hypothesis\")\n",
    "    \n",
    "print(\"t_stats\",t_stats)\n",
    "print(\"p_value\",p_value)"
   ]
  },
  {
   "cell_type": "markdown",
   "id": "d849a89c-70f0-4e33-b984-00666e0f6e33",
   "metadata": {},
   "source": [
    "Q6: What is a null and alternative hypothesis? Give some examples."
   ]
  },
  {
   "cell_type": "markdown",
   "id": "f71cd1ea-c63e-480d-8cb0-fa8fbb0303ea",
   "metadata": {},
   "source": [
    "A null hypothesis (H0) is a statement about a population parameter that is assumed to be true for the purpose of testing. The alternative hypothesis (H1) is the statement that is opposed to the null hypothesis.                   \n",
    "\n",
    "In other words, the null hypothesis is the statement that we are trying to disprove, and the alternative hypothesis is the statement that we are trying to prove.                                       \n",
    "\n",
    "Here are some examples of null and alternative hypotheses:                                          \n",
    "\n",
    "Null hypothesis: The average height of men is equal to the average height of women.                         \n",
    "Alternative hypothesis: The average height of men is greater than the average height of women.                    \n",
    "Null hypothesis: A new drug is no more effective than a placebo in treating a disease.                       \n",
    "Alternative hypothesis: A new drug is more effective than a placebo in treating a disease.                        \n",
    "Null hypothesis: A new marketing campaign has no effect on sales.                                                 \n",
    "Alternative hypothesis: A new marketing campaign has a positive effect on sales.                                 \n",
    "It is important to note that the null hypothesis is always the statement that is assumed to be true for the purpose of testing. The alternative hypothesis is the statement that we are trying to prove.                             \n",
    "\n",
    "We can never prove the null hypothesis to be true. However, we can reject the null hypothesis if the evidence is strong enough. If we reject the null hypothesis, then we can conclude that the alternative hypothesis is true.                                                                                                                   \n",
    "\n",
    "Hypothesis testing is a powerful tool that can be used to make informed decisions in a wide variety of fields."
   ]
  },
  {
   "cell_type": "markdown",
   "id": "9136d42a-d910-4355-a21a-2d9a19944c79",
   "metadata": {},
   "source": [
    "Q7: Write down the steps involved in hypothesis testing.                                             \n",
    "=> 1. Define null and alternative hypothesis.                                                                       \n",
    "2. choose level of significance.                                                                  \n",
    "3. conduct the experiment.\n",
    "4. find the p value                                                                                          \n",
    "5. if p vale < alpha then we reject the null hypothesis else we fail to reject the null hypothesis.               \n",
    "6. make conclusions."
   ]
  },
  {
   "cell_type": "markdown",
   "id": "73d5308d-f2e3-4e96-9d17-dff41fd4167b",
   "metadata": {},
   "source": [
    "Q8. Define p-value and explain its significance in hypothesis testing."
   ]
  },
  {
   "cell_type": "markdown",
   "id": "32f5938d-cfd0-44e0-8831-b846325857ab",
   "metadata": {},
   "source": [
    "The p-value is the probability of obtaining a result as extreme as or more extreme than the observed result, assuming that the null hypothesis is true. In other words, the p-value is the probability of getting a result like the one we got, if the null hypothesis is true.                                                   \n",
    "\n",
    "The p-value is significant in hypothesis testing because it tells us how likely it is that the observed result is due to chance. If the p-value is small, then it is less likely that the observed result is due to chance, and more likely that it is due to a true difference in the population parameters.                                  \n",
    "\n",
    "Traditionally, a p-value of less than 0.05 is considered to be statistically significant. This means that there is a less than 5% chance of obtaining a result as extreme as or more extreme than the observed result, assuming that the null hypothesis is true.                                                             \n",
    "\n",
    "If the p-value is less than 0.05, then we can reject the null hypothesis and conclude that the alternative hypothesis is true. However, it is important to note that the p-value is not the only factor to consider when making a decision about whether or not to reject the null hypothesis. Other factors, such as the sample size and the effect size, should also be considered.                                                          \n",
    "\n",
    "Here is an example of how to interpret the p-value:                                                   \n",
    "\n",
    "Suppose we are conducting a hypothesis test to determine if a new drug is effective in treating a disease. We collect a sample of patients and give them either the new drug or a placebo. We then compare the outcomes of the two groups.                                                                      \n",
    "\n",
    "If the p-value is less than 0.05, then we can reject the null hypothesis and conclude that the new drug is more effective than the placebo in treating the disease. However, if the p-value is greater than 0.05, then we cannot reject the null hypothesis. This does not mean that the new drug is not effective, but it does mean that we do not have enough evidence to conclude that it is effective.                                              \n",
    "\n",
    "The p-value is a valuable tool for making informed decisions in hypothesis testing. However, it is important to understand that it is not the only factor to consider."
   ]
  },
  {
   "cell_type": "markdown",
   "id": "e71432da-5b21-4455-a970-1ff5683f1df5",
   "metadata": {},
   "source": [
    "Q9. Generate a Student's t-distribution plot using Python's matplotlib library, with the degrees of freedom\n",
    "parameter set to 10."
   ]
  },
  {
   "cell_type": "code",
   "execution_count": 18,
   "id": "0c9fbfea-da86-4322-b836-1d9979ceec20",
   "metadata": {},
   "outputs": [
    {
     "data": {
      "image/png": "[encoded data removed]",
      "text/plain": [
       "<Figure size 800x600 with 1 Axes>"
      ]
     },
     "metadata": {},
     "output_type": "display_data"
    }
   ],
   "source": [
    "import numpy as np\n",
    "import matplotlib.pyplot as plt\n",
    "from scipy.stats import t\n",
    "\n",
    "# Degrees of freedom\n",
    "df = 10\n",
    "\n",
    "# Generate x values for the plot\n",
    "x = np.linspace(-4, 4, 400)\n",
    "\n",
    "# Calculate the probability density function (PDF) for the t-distribution\n",
    "pdf = t.pdf(x, df)\n",
    "\n",
    "# Create the plot\n",
    "plt.figure(figsize=(8, 6))\n",
    "plt.plot(x, pdf, label=f't-distribution (df={df})', color='b')\n",
    "plt.title(f\"Student's t-Distribution (df={df})\")\n",
    "plt.xlabel('x')\n",
    "plt.ylabel('PDF')\n",
    "plt.grid(True)\n",
    "plt.legend()\n",
    "plt.show()\n"
   ]
  },
  {
   "cell_type": "markdown",
   "id": "2319ccba-3321-49af-8489-fca3bb0d6117",
   "metadata": {},
   "source": [
    "Q10. Write a Python program to calculate the two-sample t-test for independent samples, given two\n",
    "random samples of equal size and a null hypothesis that the population means are equal."
   ]
  },
  {
   "cell_type": "code",
   "execution_count": 19,
   "id": "14ab591a-f4fb-456f-b8fc-b8eeed202531",
   "metadata": {},
   "outputs": [
    {
     "name": "stdout",
     "output_type": "stream",
     "text": [
      "We fail to reject the null hypothesis\n",
      "t_stats -0.10660035817780483\n",
      "p_value 0.37730145339434673\n"
     ]
    }
   ],
   "source": [
    "import numpy as np\n",
    "from scipy.stats import ttest_ind\n",
    "sample_1 = np.array([1, 2, 3, 4, 5])\n",
    "sample_2 = np.array([6, 7, 8, 9, 10])\n",
    "\n",
    "# Generate two random samples with equal size\n",
    "np.random.seed(0)  # for reproducibility\n",
    "sample_size = 30\n",
    "sample1 = np.random.normal(loc=5, scale=2, size=sample_size)\n",
    "sample2 = np.random.normal(loc=6, scale=2, size=sample_size)  \n",
    "\n",
    "# Perform the two-sample t-test for independent samples\n",
    "t_stat, p_value = stats.ttest_ind(sample1, sample2)\n",
    "\n",
    "alpha = 0.05\n",
    "\n",
    "if p_value < alpha:\n",
    "    print(\"We reject the null hypothesis\")\n",
    "else:\n",
    "    print(\"We fail to reject the null hypothesis\")\n",
    "    \n",
    "print(\"t_stats\",t_stats)\n",
    "print(\"p_value\",p_value)"
   ]
  },
  {
   "cell_type": "markdown",
   "id": "78dbc809-9c79-40b7-8569-7c0347c40478",
   "metadata": {},
   "source": [
    "Q11: What is Student’s t distribution? When to use the t-Distribution."
   ]
  },
  {
   "cell_type": "markdown",
   "id": "6110f9cb-5144-4356-93fb-f1e163d54fcc",
   "metadata": {},
   "source": [
    "Student's t-distribution is a probability distribution that is used in statistics to make inferences about the population mean when the sample size is small or when the population standard deviation is unknown. It is similar to the standard normal distribution (Z-distribution), but it has heavier tails. This means that it is more likely to produce extreme values than the standard normal distribution.                                            \n",
    "\n",
    "The t-distribution is used in a variety of statistical tests, including the following:                          \n",
    "\n",
    "One-sample t-test: This test is used to compare the sample mean to a known population mean.                    \n",
    "Two-sample t-test: This test is used to compare the means of two independent samples.                       \n",
    "Paired t-test: This test is used to compare the means of two matched samples.                                   \n",
    "One-way ANOVA: This test is used to compare the means of three or more groups.                                \n",
    "Regression analysis: This technique is used to model the relationship between one or more independent variables and a dependent variable.                                                                                 \n",
    "The t-distribution is a valuable tool for making inferences about populations based on sample data. However, it is important to note that the t-distribution is only valid when the following conditions are met:                 \n",
    "\n",
    "The data are normally distributed.                              \n",
    "The samples are independent.                                           \n",
    "The variances of the two samples are equal.                                     \n",
    "If any of these conditions are not met, then the t-distribution is not valid and other statistical methods should be used.                                                      \n",
    "\n",
    "Here are some examples of when to use the t-distribution:                                              \n",
    "\n",
    "You want to test whether the mean height of men is different from the mean height of women.                  \n",
    "You want to compare the average effectiveness of two different drugs for treating a disease.                   \n",
    "You want to test whether a new marketing campaign has a positive effect on sales"
   ]
  },
  {
   "cell_type": "markdown",
   "id": "b4a1403c-98a1-495c-9c2b-61908b5072bf",
   "metadata": {},
   "source": [
    "Q12: What is t-statistic? State the formula for t-statistic."
   ]
  },
  {
   "cell_type": "markdown",
   "id": "34342bea-6dc2-4043-9a7b-a38c219c7dc8",
   "metadata": {},
   "source": [
    "\n",
    "A t-statistic is a statistical measure that is used to test the null hypothesis that there is no difference between the population mean and a hypothesized value, or between the means of two populations. It is calculated by dividing the difference between the sample mean and the hypothesized value by the standard error of the mean.             \n",
    "\n",
    "The formula for the t-statistic for a one-sample t-test is:                                       \n",
    "\n",
    "t = (x̄ - μ) / (s / √n)                                                                                \n",
    "where:                                                                         \n",
    "\n",
    "x̄ is the sample mean                                                \n",
    "μ is the hypothesized population mean                                                        \n",
    "s is the sample standard deviation                                                            \n",
    "n is the sample size"
   ]
  },
  {
   "cell_type": "markdown",
   "id": "ff1a5b16-7bb1-4cbf-b472-a68aeeee2b21",
   "metadata": {},
   "source": [
    "Q13. A coffee shop owner wants to estimate the average daily revenue for their shop. They take a random\n",
    "sample of 50 days and find the sample mean revenue to be $500 with a standard deviation of $50.\n",
    "Estimate the population mean revenue with a 95% confidence interval."
   ]
  },
  {
   "cell_type": "markdown",
   "id": "8fba7208-9c40-4072-b1df-89ccde8be52d",
   "metadata": {},
   "source": [
    "\n",
    "To estimate the population mean revenue with a 95% confidence interval, we can use the following formula:         \n",
    "\n",
    "x̄ ± 1.96 * (s / √n)                                                      \n",
    "where:                                                           \n",
    "\n",
    "x̄ is the sample mean                                            \n",
    "s is the sample standard deviation                                                        \n",
    "n is the sample size                                                             \n",
    "In this case, we have:                                                               \n",
    "\n",
    "x̄ = $500                                                         \n",
    "s = $50                                                                        \n",
    "n = 50                                                                                   \n",
    "Substituting these values into the formula, we get:                                                   \n",
    "\n",
    "$500 ± 1.96 * ($50 / √50)                                                                           \n",
    "$500 ± 1.96 * ($50 / 7.07)                                                                                \n",
    "$500 ± $14.09                                                                                          \n",
    "Therefore, the 95% confidence interval for the population mean revenue is ($485.91, $514.09).                  \n",
    "\n",
    "This means that we are 95% confident that the true population mean revenue is between $485.91 and $514.09.        \n",
    "\n",
    "It is important to note that this is just an estimate. The true population mean revenue may be outside of this interval. However, we can be 95% confident that it is within the interval."
   ]
  },
  {
   "cell_type": "markdown",
   "id": "5d8bba56-854b-4b75-be59-25df3594446f",
   "metadata": {},
   "source": [
    "Q14. A researcher hypothesizes that a new drug will decrease blood pressure by 10 mmHg. They conduct a\n",
    "clinical trial with 100 patients and find that the sample mean decrease in blood pressure is 8 mmHg with a\n",
    "standard deviation of 3 mmHg. Test the hypothesis with a significance level of 0.05."
   ]
  },
  {
   "cell_type": "markdown",
   "id": "eed6a8e8-bfc8-4beb-aa03-bb83fa977b4a",
   "metadata": {},
   "source": [
    "Null hypothesis: The average decrease in blood pressure is 10 mmHg.\n",
    "\n",
    "Alternative hypothesis: The average decrease in blood pressure is less than 10 mmHg.\n",
    "\n",
    "Step 1: Calculate the t-statistic\n",
    "\n",
    "t = (x̄ - μ) / (s / √n)\n",
    "t = (8 - 10) / (3 / √100)\n",
    "t = -2.67\n",
    "Step 2: Find the critical t-value\n",
    "\n",
    "The critical t-value depends on the significance level and the degrees of freedom. In this case, the significance level is 0.05 and the degrees of freedom are n-1 = 99. Using a t-table, we find that the critical t-value is -1.98.\n",
    "\n",
    "Step 3: Compare the t-statistic to the critical t-value\n",
    "\n",
    "Since the t-statistic (-2.67) is less than the critical t-value (-1.98), we reject the null hypothesis.\n",
    "\n",
    "Conclusion\n",
    "\n",
    "There is sufficient evidence to conclude that the new drug decreases blood pressure by less than 10 mmHg."
   ]
  },
  {
   "cell_type": "markdown",
   "id": "52b8a923-ef1d-4f3d-8980-7a7d700bb92d",
   "metadata": {},
   "source": [
    "Q15. An electronics company produces a certain type of product with a mean weight of 5 pounds and a\n",
    "standard deviation of 0.5 pounds. A random sample of 25 products is taken, and the sample mean weight\n",
    "is found to be 4.8 pounds. Test the hypothesis that the true mean weight of the products is less than 5\n",
    "pounds with a significance level of 0.01."
   ]
  },
  {
   "cell_type": "markdown",
   "id": "e3097f59-3e18-456b-a399-8340dae1e899",
   "metadata": {},
   "source": [
    "Null hypothesis: The true mean weight of the products is 5 pounds.\n",
    "\n",
    "Alternative hypothesis: The true mean weight of the products is less than 5 pounds.\n",
    "\n",
    "Step 1: Calculate the t-statistic\n",
    "\n",
    "t = (x̄ - μ) / (s / √n)\n",
    "t = (4.8 - 5) / (0.5 / √25)\n",
    "t = -2.00\n",
    "Step 2: Find the critical t-value\n",
    "\n",
    "The critical t-value depends on the significance level and the degrees of freedom. In this case, the significance level is 0.01 and the degrees of freedom are n-1 = 24. Using a t-table, we find that the critical t-value is -2.492.\n",
    "\n",
    "Step 3: Compare the t-statistic to the critical t-value\n",
    "\n",
    "Since the t-statistic (-2.00) is greater than the critical t-value (-2.492), we fail to reject the null hypothesis.\n",
    "\n",
    "Conclusion\n",
    "\n",
    "There is not sufficient evidence to conclude that the true mean weight of the products is less than 5 pounds."
   ]
  },
  {
   "cell_type": "markdown",
   "id": "be06c271-53db-4ec6-a112-c28836c607d1",
   "metadata": {},
   "source": [
    "Q16. Two groups of students are given different study materials to prepare for a test. The first group (n1 =\n",
    "30) has a mean score of 80 with a standard deviation of 10, and the second group (n2 = 40) has a mean\n",
    "score of 75 with a standard deviation of 8. Test the hypothesis that the population means for the two\n",
    "groups are equal with a significance level of 0.01."
   ]
  },
  {
   "cell_type": "markdown",
   "id": "24a7fd96-e971-4cd2-9b9e-35780cfeace4",
   "metadata": {},
   "source": [
    "Null hypothesis: The population means for the two groups are equal.\n",
    "\n",
    "Alternative hypothesis: The population means for the two groups are not equal.\n",
    "\n",
    "Step 1: Calculate the pooled standard deviation\n",
    "\n",
    "s_pooled = √ [(s12 / n1 ) + (s22 / n2 )]\n",
    "s_pooled = √ [(10^2 / 30) + (8^2 / 40)]\n",
    "s_pooled = 9.08\n",
    "Step 2: Calculate the t-statistic\n",
    "\n",
    "t = (x̄1 - x̄2) / √ [(s12 / n1 ) + (s22 / n2 )]\n",
    "t = (80 - 75) / √ [(10^2 / 30) + (8^2 / 40)]\n",
    "t = 2.77\n",
    "Step 3: Find the critical t-value\n",
    "\n",
    "The critical t-value depends on the significance level and the degrees of freedom. In this case, the significance level is 0.01 and the degrees of freedom are n1 + n2 - 2 = 30 + 40 - 2 = 68. Using a t-table, we find that the critical t-value is 2.639.\n",
    "\n",
    "Step 4: Compare the t-statistic to the critical t-value\n",
    "\n",
    "Since the t-statistic (2.77) is greater than the critical t-value (2.639), we reject the null hypothesis.\n",
    "\n",
    "Conclusion\n",
    "\n",
    "There is sufficient evidence to conclude that the population means for the two groups are not equal"
   ]
  },
  {
   "cell_type": "markdown",
   "id": "ba536fc9-b5fb-4a85-a717-5c0be264f177",
   "metadata": {},
   "source": [
    "Q17. A marketing company wants to estimate the average number of ads watched by viewers during a TV\n",
    "program. They take a random sample of 50 viewers and find that the sample mean is 4 with a standard\n",
    "deviation of 1.5. Estimate the population mean with a 99% confidence interval."
   ]
  },
  {
   "cell_type": "markdown",
   "id": "0f3a89b0-3b28-4e66-ba10-170f445013c5",
   "metadata": {},
   "source": [
    "To estimate the population mean with a 99% confidence interval, we can use the following formula:\n",
    "\n",
    "x̄ ± z * (s / √n)\n",
    "where:\n",
    "\n",
    "x̄ is the sample mean\n",
    "z is the critical z-score for a 99% confidence interval\n",
    "s is the sample standard deviation\n",
    "n is the sample size\n",
    "The critical z-score for a 99% confidence interval is 2.576.\n",
    "\n",
    "Substituting the known values into the formula, we get:\n",
    "\n",
    "4 ± 2.576 * (1.5 / √50)\n",
    "4 ± 0.490\n",
    "Therefore, the 99% confidence interval for the population mean is (3.510, 4.490).\n",
    "\n",
    "This means that we are 99% confident that the true population mean number of ads watched by viewers during a TV program is between 3.510 and 4.490."
   ]
  }
 ],
 "metadata": {
  "kernelspec": {
   "display_name": "Python 3 (ipykernel)",
   "language": "python",
   "name": "python3"
  },
  "language_info": {
   "codemirror_mode": {
    "name": "ipython",
    "version": 3
   },
   "file_extension": ".py",
   "mimetype": "text/x-python",
   "name": "python",
   "nbconvert_exporter": "python",
   "pygments_lexer": "ipython3",
   "version": "3.10.8"
  }
 },
 "nbformat": 4,
 "nbformat_minor": 5
}
